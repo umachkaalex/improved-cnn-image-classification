{
 "cells": [
  {
   "cell_type": "code",
   "execution_count": 1,
   "metadata": {
    "collapsed": false
   },
   "outputs": [
    {
     "name": "stderr",
     "output_type": "stream",
     "text": [
      "Using TensorFlow backend.\n"
     ]
    }
   ],
   "source": [
    "from functions import *\n"
   ]
  },
  {
   "cell_type": "code",
   "execution_count": 2,
   "metadata": {},
   "outputs": [
    {
     "name": "stderr",
     "output_type": "stream",
     "text": [
      "\r  0%|          | 0/2 [00:00<?, ?it/s]"
     ]
    },
    {
     "name": "stderr",
     "output_type": "stream",
     "text": [
      "\r 50%|█████     | 1/2 [00:10<00:10, 10.25s/it]"
     ]
    },
    {
     "name": "stderr",
     "output_type": "stream",
     "text": [
      "\r100%|██████████| 2/2 [00:20<00:00, 10.18s/it]"
     ]
    },
    {
     "name": "stderr",
     "output_type": "stream",
     "text": [
      "\n"
     ]
    },
    {
     "name": "stdout",
     "output_type": "stream",
     "text": [
      "X train shape: (20000, 64, 64, 3)"
     ]
    },
    {
     "name": "stdout",
     "output_type": "stream",
     "text": [
      "\n"
     ]
    },
    {
     "name": "stdout",
     "output_type": "stream",
     "text": [
      "Y train shape: (20000, 1)"
     ]
    },
    {
     "name": "stdout",
     "output_type": "stream",
     "text": [
      "\n"
     ]
    },
    {
     "name": "stderr",
     "output_type": "stream",
     "text": [
      "\r  0%|          | 0/2 [00:00<?, ?it/s]"
     ]
    },
    {
     "name": "stderr",
     "output_type": "stream",
     "text": [
      "\r 50%|█████     | 1/2 [00:02<00:02,  2.48s/it]"
     ]
    },
    {
     "name": "stderr",
     "output_type": "stream",
     "text": [
      "\r100%|██████████| 2/2 [00:04<00:00,  2.49s/it]"
     ]
    },
    {
     "name": "stderr",
     "output_type": "stream",
     "text": [
      "\n"
     ]
    },
    {
     "name": "stdout",
     "output_type": "stream",
     "text": [
      "X test shape: (5000, 64, 64, 3)"
     ]
    },
    {
     "name": "stdout",
     "output_type": "stream",
     "text": [
      "\n"
     ]
    },
    {
     "name": "stdout",
     "output_type": "stream",
     "text": [
      "Y test shape: (5000, 1)"
     ]
    },
    {
     "name": "stdout",
     "output_type": "stream",
     "text": [
      "\n"
     ]
    }
   ],
   "source": [
    "# =========== load dataset =========== #\n",
    "fldr = '../datasets/dogs_cats/'\n",
    "dataset = PrepareData(fldr).run()\n",
    "X_train = dataset['X_train']\n",
    "X_test = dataset['X_test']\n",
    "y_train = dataset['Y_train']\n",
    "y_test = dataset['Y_test']\n",
    "# path to save predictions after each type of training\n",
    "savepath = './results/'\n",
    "# list to store each training history\n",
    "histories = []\n",
    "# list to store name of training\n",
    "names = []\n"
   ]
  },
  {
   "cell_type": "code",
   "execution_count": 3,
   "metadata": {},
   "outputs": [
    {
     "name": "stdout",
     "output_type": "stream",
     "text": [
      "(20000, 64, 64, 3)"
     ]
    },
    {
     "name": "stdout",
     "output_type": "stream",
     "text": [
      " "
     ]
    },
    {
     "name": "stdout",
     "output_type": "stream",
     "text": [
      "(20000, 1)"
     ]
    },
    {
     "name": "stdout",
     "output_type": "stream",
     "text": [
      " "
     ]
    },
    {
     "name": "stdout",
     "output_type": "stream",
     "text": [
      "(5000, 64, 64, 3)"
     ]
    },
    {
     "name": "stdout",
     "output_type": "stream",
     "text": [
      " "
     ]
    },
    {
     "name": "stdout",
     "output_type": "stream",
     "text": [
      "(5000, 1)"
     ]
    },
    {
     "name": "stdout",
     "output_type": "stream",
     "text": [
      "\n"
     ]
    },
    {
     "name": "stdout",
     "output_type": "stream",
     "text": [
      "(20000, 64, 64, 3)"
     ]
    },
    {
     "name": "stdout",
     "output_type": "stream",
     "text": [
      " "
     ]
    },
    {
     "name": "stdout",
     "output_type": "stream",
     "text": [
      "(20000, 2)"
     ]
    },
    {
     "name": "stdout",
     "output_type": "stream",
     "text": [
      " "
     ]
    },
    {
     "name": "stdout",
     "output_type": "stream",
     "text": [
      "(5000, 64, 64, 3)"
     ]
    }
   ],
   "source": [
    "# =========== reshape dataset to the shape suitable for training =========== #\n",
    "# shapes before reshaping\n",
    "print(X_train.shape, y_train.shape, X_test.shape, y_test.shape)\n",
    "# reshape dataset\n",
    "dataset = reshape_data(X_train, y_train, X_test, y_test, savepath)\n",
    "# shapes after reshaping\n",
    "X_train = dataset['X_train'].copy()\n",
    "X_test = dataset['X_test'].copy()\n",
    "y_train = dataset['y_train'].copy()\n",
    "y_test = dataset['y_test'].copy()\n",
    "print(X_train.shape, \n",
    "      y_train.shape,\n",
    "      X_test.shape,\n",
    "      y_test.shape,)\n"
   ]
  },
  {
   "cell_type": "code",
   "execution_count": 4,
   "metadata": {},
   "outputs": [
    {
     "name": "stdout",
     "output_type": "stream",
     "text": [
      "MNIST accurancy: 0.896"
     ]
    },
    {
     "name": "stdout",
     "output_type": "stream",
     "text": [
      "\n"
     ]
    }
   ],
   "source": [
    "# =========== train, predict, save and store =========== #\n",
    "# train model, get and save predictions to the savepath folder\n",
    "# return learning history and name of the \"trained dataset\"\n",
    "cur_history, name = train_predict(dataset, savepath, 'MNIST', verb=0)\n",
    "# store learning history to the list\n",
    "histories.append(cur_history)\n",
    "# store name to the list \n",
    "names.append(name)\n"
   ]
  },
  {
   "cell_type": "code",
   "execution_count": 5,
   "metadata": {},
   "outputs": [
    {
     "name": "stderr",
     "output_type": "stream",
     "text": [
      "\r  0%|          | 0/20000 [00:00<?, ?it/s]"
     ]
    },
    {
     "name": "stderr",
     "output_type": "stream",
     "text": [
      "\r 21%|██        | 4189/20000 [00:00<00:00, 41887.54it/s]"
     ]
    },
    {
     "name": "stderr",
     "output_type": "stream",
     "text": [
      "\r 42%|████▏     | 8418/20000 [00:00<00:00, 42006.74it/s]"
     ]
    },
    {
     "name": "stderr",
     "output_type": "stream",
     "text": [
      "\r 64%|██████▍   | 12898/20000 [00:00<00:00, 42806.76it/s]"
     ]
    },
    {
     "name": "stderr",
     "output_type": "stream",
     "text": [
      "\r 80%|███████▉  | 15924/20000 [00:00<00:00, 38070.27it/s]"
     ]
    },
    {
     "name": "stderr",
     "output_type": "stream",
     "text": [
      "\r 97%|█████████▋| 19444/20000 [00:00<00:00, 37160.55it/s]"
     ]
    },
    {
     "name": "stderr",
     "output_type": "stream",
     "text": [
      "\r100%|██████████| 20000/20000 [00:00<00:00, 38533.43it/s]"
     ]
    },
    {
     "name": "stderr",
     "output_type": "stream",
     "text": [
      "\n"
     ]
    },
    {
     "name": "stdout",
     "output_type": "stream",
     "text": [
      "Total Non NaN values: 8760000"
     ]
    },
    {
     "name": "stdout",
     "output_type": "stream",
     "text": [
      "\n"
     ]
    },
    {
     "name": "stdout",
     "output_type": "stream",
     "text": [
      "Total NaN values: 0"
     ]
    },
    {
     "name": "stdout",
     "output_type": "stream",
     "text": [
      "\n"
     ]
    },
    {
     "name": "stdout",
     "output_type": "stream",
     "text": [
      "(20000, 426)"
     ]
    },
    {
     "name": "stdout",
     "output_type": "stream",
     "text": [
      "\n"
     ]
    },
    {
     "name": "stderr",
     "output_type": "stream",
     "text": [
      "\r  0%|          | 0/5000 [00:00<?, ?it/s]"
     ]
    },
    {
     "name": "stderr",
     "output_type": "stream",
     "text": [
      "\r 82%|████████▏ | 4079/5000 [00:00<00:00, 40787.71it/s]"
     ]
    },
    {
     "name": "stderr",
     "output_type": "stream",
     "text": [
      "\r100%|██████████| 5000/5000 [00:00<00:00, 40648.15it/s]"
     ]
    },
    {
     "name": "stderr",
     "output_type": "stream",
     "text": [
      "\n"
     ]
    },
    {
     "name": "stdout",
     "output_type": "stream",
     "text": [
      "Total Non NaN values: 2190000"
     ]
    },
    {
     "name": "stdout",
     "output_type": "stream",
     "text": [
      "\n"
     ]
    },
    {
     "name": "stdout",
     "output_type": "stream",
     "text": [
      "Total NaN values: 0"
     ]
    },
    {
     "name": "stdout",
     "output_type": "stream",
     "text": [
      "\n"
     ]
    },
    {
     "name": "stdout",
     "output_type": "stream",
     "text": [
      "(5000, 426)"
     ]
    },
    {
     "name": "stdout",
     "output_type": "stream",
     "text": [
      "\n"
     ]
    }
   ],
   "source": [
    "# =========== extract features from original images =========== #\n",
    "feat_train_data, feat_test_data = extr_feat(dataset)\n"
   ]
  },
  {
   "cell_type": "code",
   "execution_count": 6,
   "metadata": {},
   "outputs": [],
   "source": [
    "# =========== reshape features to image shape and concatenate with them =========== #\n",
    "# reshape to image shape\n",
    "X_train_feat, X_test_feat = reshape_as_orig(feat_train_data, \n",
    "                                            feat_test_data, \n",
    "                                            dataset)\n",
    "# stack new features array to original image dataset as additional \"depth\" layer \n",
    "X_train_2 = np.concatenate([X_train, X_train_feat], axis=-1)\n",
    "X_test_2 = np.concatenate([X_test, X_test_feat], axis=-1)\n"
   ]
  },
  {
   "cell_type": "code",
   "execution_count": 7,
   "metadata": {},
   "outputs": [
    {
     "name": "stdout",
     "output_type": "stream",
     "text": [
      "MNIST_feat accurancy: 0.89"
     ]
    },
    {
     "name": "stdout",
     "output_type": "stream",
     "text": [
      "\n"
     ]
    }
   ],
   "source": [
    "# ====== train miniVGG with original data concatenated with new features ====== #\n",
    "# update dataset to train with VGG model\n",
    "dataset['X_train'] = X_train_2\n",
    "dataset['X_test'] = X_test_2\n",
    "dataset['train_shape'][-1] = dataset['train_shape'][-1] + 1\n",
    "dataset['test_shape'][-1] = dataset['test_shape'][-1] + 1\n",
    "# train, predict, save results\n",
    "cur_history, name = train_predict(dataset, savepath, 'MNIST_feat', verb=0)\n",
    "histories.append(cur_history)\n",
    "names.append(name)\n"
   ]
  },
  {
   "cell_type": "code",
   "execution_count": 8,
   "metadata": {},
   "outputs": [
    {
     "data": {
      "text/plain": [
       "<matplotlib.legend.Legend at 0x631f3dd8>"
      ]
     },
     "execution_count": 8,
     "metadata": {},
     "output_type": "execute_result"
    },
    {
     "data": {
      "image/png": "[encoded data removed]",
      "text/plain": [
       "<Figure size 432x288 with 1 Axes>"
      ]
     },
     "metadata": {},
     "output_type": "display_data"
    }
   ],
   "source": [
    "# ====== plot training histories, read predictions from csv and store them to the list ====== #\n",
    "colors = ['r', 'b']\n",
    "for n in range(len(names)):    \n",
    "    plt.plot(np.arange(len(histories[n])),\n",
    "             histories[n],\n",
    "             c=colors[n],\n",
    "             label=names[n] + ': ' + str(np.round(np.max(histories[n])*100, 2)))\n",
    "plt.legend()\n"
   ]
  },
  {
   "cell_type": "code",
   "execution_count": 9,
   "metadata": {},
   "outputs": [
    {
     "name": "stdout",
     "output_type": "stream",
     "text": [
      "0.8988"
     ]
    },
    {
     "name": "stdout",
     "output_type": "stream",
     "text": [
      "\n"
     ]
    }
   ],
   "source": [
    "# ====== read predictions, average them and get better accuracy ====== #\n",
    "predictions = []\n",
    "# read predictions from csv files and store them to \"predictions\" list\n",
    "for n in range(len(names)):\n",
    "    predictions.append(pd.read_csv(savepath + 'cur_pred_'\n",
    "                                   + str(names[n]) + '.csv').values)\n",
    "\n",
    "# average to predictions\n",
    "average_pred = (predictions[0] + predictions[1])/2\n",
    "# find the most probable class for each image\n",
    "average_pred = np.argmax(average_pred, axis=1)\n",
    "y_test = np.argmax(y_test, axis=1)\n",
    "# calculate accuracy for averaged predictions\n",
    "acc = accuracy_score(average_pred, y_test)\n",
    "print(acc)\n"
   ]
  }
 ],
 "metadata": {
  "kernelspec": {
   "display_name": "Python 2",
   "language": "python",
   "name": "python2"
  },
  "language_info": {
   "codemirror_mode": {
    "name": "ipython",
    "version": 2
   },
   "file_extension": ".py",
   "mimetype": "text/x-python",
   "name": "python",
   "nbconvert_exporter": "python",
   "pygments_lexer": "ipython2",
   "version": "2.7.6"
  }
 },
 "nbformat": 4,
 "nbformat_minor": 0
}
